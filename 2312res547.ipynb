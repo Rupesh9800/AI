{
 "cells": [
  {
   "cell_type": "markdown",
   "id": "8cea36aa-812b-4363-8884-634e0ed9296e",
   "metadata": {},
   "source": [
    "# AI Lab 1: DFS vs BFS for 8-Puzzle Problem\n",
    "# Name: RUPESH VARMA\n",
    "# Roll No: 2312res547\n",
    "# Date: September 07, 2025"
   ]
  },
  {
   "cell_type": "code",
   "execution_count": 33,
   "id": "24b3de46-d8b5-4063-bbce-0f2635acb811",
   "metadata": {},
   "outputs": [],
   "source": [
    "import random\n",
    "from collections import deque"
   ]
  },
  {
   "cell_type": "code",
   "execution_count": 34,
   "id": "bbc14339-dd4a-4156-bd7e-59da05246d85",
   "metadata": {},
   "outputs": [],
   "source": [
    "# Function to generate random grid\n",
    "def gen_grid():\n",
    "    nums = list(range(1, 9)) + ['B']\n",
    "    random.shuffle(nums)\n",
    "    return [nums[:3], nums[3:6], nums[6:]]"
   ]
  },
  {
   "cell_type": "code",
   "execution_count": 35,
   "id": "e48790cc-89e6-4fb7-88f1-69697095e643",
   "metadata": {},
   "outputs": [],
   "source": [
    "# Function to print grid\n",
    "def prt(grid):\n",
    "    for row in grid:\n",
    "        print(' '.join(str(x) for x in row))\n",
    "    print()\n"
   ]
  },
  {
   "cell_type": "code",
   "execution_count": 36,
   "id": "ed785dfe-ba0a-46c3-84fa-d072f814d802",
   "metadata": {},
   "outputs": [],
   "source": [
    "# Find blank position\n",
    "def find_b(grid):\n",
    "    for i in range(3):\n",
    "        for j in range(3):\n",
    "            if grid[i][j] == 'B':\n",
    "                return i, j"
   ]
  },
  {
   "cell_type": "code",
   "execution_count": 37,
   "id": "3b3cabae-4e58-4c91-a15f-4b8d63507f06",
   "metadata": {},
   "outputs": [],
   "source": [
    "# Get valid moves\n",
    "def moves(pos):\n",
    "    i, j = pos\n",
    "    m = []\n",
    "    if i > 0: m.append((i-1, j))\n",
    "    if i < 2: m.append((i+1, j))\n",
    "    if j > 0: m.append((i, j-1))\n",
    "    if j < 2: m.append((i, j+1))\n",
    "    return m"
   ]
  },
  {
   "cell_type": "code",
   "execution_count": 38,
   "id": "8a6cc966-4c56-49f5-9aec-274281425bb4",
   "metadata": {},
   "outputs": [],
   "source": [
    "# Swap positions\n",
    "def swp(grid, p1, p2):\n",
    "    g = [row.copy() for row in grid]\n",
    "    i1, j1 = p1\n",
    "    i2, j2 = p2\n",
    "    g[i1][j1], g[i2][j2] = g[i2][j2], g[i1][j1]\n",
    "    return g"
   ]
  },
  {
   "cell_type": "code",
   "execution_count": 39,
   "id": "ec58d052-1a10-4883-9397-a61cd65845f0",
   "metadata": {},
   "outputs": [],
   "source": [
    "# Convert grid to tuple\n",
    "def to_tuple(grid):\n",
    "    return tuple(tuple(row) for row in grid)"
   ]
  },
  {
   "cell_type": "code",
   "execution_count": 40,
   "id": "8efaf469-3d1b-476e-91c8-414ebecd73cd",
   "metadata": {},
   "outputs": [],
   "source": [
    "# BFS\n",
    "def bfs(start, target):\n",
    "    vis = set()\n",
    "    q = deque()\n",
    "    q.append((start, 0))\n",
    "    vis.add(to_tuple(start))\n",
    "    \n",
    "    while q:\n",
    "        cur, steps = q.popleft()\n",
    "        if cur == target:\n",
    "            return steps\n",
    "        b = find_b(cur)\n",
    "        for m in moves(b):\n",
    "            ng = swp(cur, b, m)\n",
    "            tng = to_tuple(ng)\n",
    "            if tng not in vis:\n",
    "                vis.add(tng)\n",
    "                q.append((ng, steps+1))\n",
    "    return -1\n"
   ]
  },
  {
   "cell_type": "code",
   "execution_count": 41,
   "id": "4128ed07-b6d3-423e-84f9-fc900fe6abb1",
   "metadata": {},
   "outputs": [],
   "source": [
    "# DFS\n",
    "def dfs(start, target, limit=50):\n",
    "    vis = set()\n",
    "    stack = [(start, 0)]\n",
    "    vis.add(to_tuple(start))\n",
    "    \n",
    "    while stack:\n",
    "        cur, steps = stack.pop()\n",
    "        if cur == target:\n",
    "            return steps\n",
    "        if steps >= limit:\n",
    "            continue\n",
    "        b = find_b(cur)\n",
    "        for m in moves(b):\n",
    "            ng = swp(cur, b, m)\n",
    "            tng = to_tuple(ng)\n",
    "            if tng not in vis:\n",
    "                vis.add(tng)\n",
    "                stack.append((ng, steps+1))\n",
    "    return -1\n"
   ]
  },
  {
   "cell_type": "code",
   "execution_count": 55,
   "id": "c0e88fa2-c9e2-4e54-b3b8-108cea587384",
   "metadata": {},
   "outputs": [
    {
     "name": "stdout",
     "output_type": "stream",
     "text": [
      "Start Grid:\n",
      "8 4 7\n",
      "B 5 3\n",
      "1 2 6\n",
      "\n",
      "Target Grid:\n",
      "1 2 3\n",
      "4 5 6\n",
      "7 8 B\n",
      "\n"
     ]
    }
   ],
   "source": [
    "# Main Execution\n",
    "start = gen_grid()\n",
    "target = [[1,2,3],[4,5,6],[7,8,'B']]\n",
    "\n",
    "print(\"Start Grid:\")\n",
    "prt(start)\n",
    "print(\"Target Grid:\")\n",
    "prt(target)"
   ]
  },
  {
   "cell_type": "code",
   "execution_count": 57,
   "id": "4a7bef5a-7834-458e-bd36-44bb11271e4f",
   "metadata": {},
   "outputs": [
    {
     "name": "stdout",
     "output_type": "stream",
     "text": [
      "BFS: Minimum steps = 23\n"
     ]
    }
   ],
   "source": [
    "# BFS solution\n",
    "b_steps = bfs(start, target)\n",
    "print(f\"BFS: Minimum steps = {b_steps}\")"
   ]
  },
  {
   "cell_type": "code",
   "execution_count": 59,
   "id": "3fec38cc-ec40-4819-aa4f-ad4101bc3e8f",
   "metadata": {},
   "outputs": [
    {
     "name": "stdout",
     "output_type": "stream",
     "text": [
      "DFS: Steps with depth limit = 49\n"
     ]
    }
   ],
   "source": [
    "# DFS solution\n",
    "d_steps = dfs(start, target)\n",
    "print(f\"DFS: Steps with depth limit = {d_steps}\")"
   ]
  },
  {
   "cell_type": "markdown",
   "id": "5842a87e-d440-49f2-819e-8f22837aad78",
   "metadata": {},
   "source": [
    "## BFS vs DFS Comparison\r\n",
    "\r\n",
    "1. **Steps to Reach Solution:**\r\n",
    "   - **BFS (Breadth-First Search):** Always finds the shortest path to the target configuration.  \r\n",
    "     - **Example Result:** BFS: Minimum steps = 23\r\n",
    "   - **DFS (Depth-First Search):** Explores one path fully before backtracking. The steps may be higher and not necessarily the shortest.  \r\n",
    "     - **Example Result:** DFS: Steps with depth limit = 49\r\n",
    "\r\n",
    "2. **Speed and Usage:**\r\n",
    "   - **BFS:** Best for finding the minimal number of moves, though it may require more memory.  \r\n",
    "   - **DFS:** Can be quicker if the solution is close to the starting position, but may take longer if the correct path is deep.  \r\n",
    "   - **Examples:**  \r\n",
    "     - DFS can be faster when the blank tile is already near its goal position.  \r\n",
    "     - BFS is better when many moves are needed or the shortest path is important, as it explores all possibilities level by level.\r\n",
    "el by level.\r\n",
    " by level.\r\n",
    " by level.\r\n",
    " by level.\r\n",
    "l by level.\r\n"
   ]
  },
  {
   "cell_type": "code",
   "execution_count": null,
   "id": "716f8469-ede8-47ba-9c92-74a7e098f72b",
   "metadata": {},
   "outputs": [],
   "source": []
  }
 ],
 "metadata": {
  "kernelspec": {
   "display_name": "Python 3 (ipykernel)",
   "language": "python",
   "name": "python3"
  },
  "language_info": {
   "codemirror_mode": {
    "name": "ipython",
    "version": 3
   },
   "file_extension": ".py",
   "mimetype": "text/x-python",
   "name": "python",
   "nbconvert_exporter": "python",
   "pygments_lexer": "ipython3",
   "version": "3.12.3"
  }
 },
 "nbformat": 4,
 "nbformat_minor": 5
}
