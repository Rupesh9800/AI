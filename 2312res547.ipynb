{
 "cells": [
  {
   "cell_type": "markdown",
   "id": "edbdec1c-3b01-4712-ae7b-b040613446b3",
   "metadata": {},
   "source": [
    "# Assignment: Pathfinding with Uniform Cost Search (UCS)\n",
    "# Name: RUPESH VARMA\n",
    "# Roll No: 2312res547\n",
    "# Date: 19-09-2025"
   ]
  },
  {
   "cell_type": "code",
   "execution_count": 2,
   "id": "4839fdd5-1314-4a10-8046-224e0be664a7",
   "metadata": {},
   "outputs": [],
   "source": [
    "import heapq"
   ]
  },
  {
   "cell_type": "code",
   "execution_count": 6,
   "id": "59678b6e-f473-40a2-a8b2-09859312ecc6",
   "metadata": {},
   "outputs": [],
   "source": [
    "# UCS Implementation\n",
    "def ucs(graph, start, goal):\n",
    "    pq = [(0, start, [start])]\n",
    "    visited = set()\n",
    "\n",
    "    while pq:\n",
    "        cost, node, path = heapq.heappop(pq)\n",
    "\n",
    "        if node == goal:\n",
    "            return cost, path\n",
    "\n",
    "        if node not in visited:\n",
    "            visited.add(node)\n",
    "\n",
    "            for neighbor, edge_cost in graph[node]:\n",
    "                if neighbor not in visited:\n",
    "                    heapq.heappush(pq, (cost + edge_cost, neighbor, path + [neighbor]))\n",
    "\n",
    "    return float(\"inf\"), []  \n"
   ]
  },
  {
   "cell_type": "code",
   "execution_count": 8,
   "id": "c59b2c94-7324-460e-838d-b8068710c27f",
   "metadata": {},
   "outputs": [],
   "source": [
    "# Initial Graph\n",
    "graph = {\n",
    "    'A': [('B', 2), ('C', 5)],\n",
    "    'B': [('A', 2), ('C', 6), ('D', 1)],\n",
    "    'C': [('A', 5), ('B', 6), ('D', 3), ('E', 8)],\n",
    "    'D': [('B', 1), ('C', 3), ('E', 4)],\n",
    "    'E': [('C', 8), ('D', 4)]\n",
    "}"
   ]
  },
  {
   "cell_type": "code",
   "execution_count": 12,
   "id": "0b9722b6-f765-407d-bed3-c3156408bf91",
   "metadata": {},
   "outputs": [
    {
     "name": "stdout",
     "output_type": "stream",
     "text": [
      "Test Case 1 (A → E):\n",
      "Minimum Cost: 7\n",
      "Path: ['A', 'B', 'D', 'E']\n",
      "\n"
     ]
    }
   ],
   "source": [
    "# Test Case 1: A -> E\n",
    "cost1, path1 = ucs(graph, 'A', 'E')\n",
    "print(\"Test Case 1 (A → E):\")\n",
    "print(f\"Minimum Cost: {cost1}\")\n",
    "print(f\"Path: {path1}\\n\")"
   ]
  },
  {
   "cell_type": "code",
   "execution_count": 16,
   "id": "73c5eed6-9086-4d32-a28a-006e689f9bb9",
   "metadata": {},
   "outputs": [],
   "source": [
    "# Add New City F\n",
    "graph['E'].append(('F', 2))\n",
    "graph['F'] = [('E', 2)]"
   ]
  },
  {
   "cell_type": "code",
   "execution_count": 18,
   "id": "abc82ef8-8ae4-4a37-8177-fecf9771015f",
   "metadata": {},
   "outputs": [
    {
     "name": "stdout",
     "output_type": "stream",
     "text": [
      "Test Case 2 (A → F):\n",
      "Minimum Cost: 9\n",
      "Path: ['A', 'B', 'D', 'E', 'F']\n"
     ]
    }
   ],
   "source": [
    "# Test Case 2: A -> F\n",
    "cost2, path2 = ucs(graph, 'A', 'F')\n",
    "print(\"Test Case 2 (A → F):\")\n",
    "print(f\"Minimum Cost: {cost2}\")\n",
    "print(f\"Path: {path2}\")"
   ]
  },
  {
   "cell_type": "markdown",
   "id": "cbd37a87-2474-4444-b4f5-951dd773b616",
   "metadata": {},
   "source": [
    "## UCS Write-Up\r\n",
    "\r\n",
    "**(a) How does UCS decide which node to expand next?**  \r\n",
    "UCS keeps track of all possible paths using a priority queue and always picks the one with the smallest total cost so far. This way, it expands the cheapest option first.\r\n",
    "\r\n",
    "**(b) Why does UCS always find the optimal path?**  \r\n",
    "Because UCS always chooses the path with the lowest accumulated cost before exploring others, the first time it reaches the goal is guaranteed to be the shortest (least-cost) route.\r\n",
    "\r\n",
    "**(c) What would happen if all edge costs were the same?**  \r\n",
    "If every edge had the same cost, UCS would work just like a Breadth-First Search (BFS), exploring the graph level by level and finding the shortest path in terms of steps.\r\n",
    "y level.\r\n"
   ]
  },
  {
   "cell_type": "code",
   "execution_count": null,
   "id": "87b24887-df3b-40a4-8963-e2a690949c82",
   "metadata": {},
   "outputs": [],
   "source": []
  }
 ],
 "metadata": {
  "kernelspec": {
   "display_name": "Python 3 (ipykernel)",
   "language": "python",
   "name": "python3"
  },
  "language_info": {
   "codemirror_mode": {
    "name": "ipython",
    "version": 3
   },
   "file_extension": ".py",
   "mimetype": "text/x-python",
   "name": "python",
   "nbconvert_exporter": "python",
   "pygments_lexer": "ipython3",
   "version": "3.12.3"
  }
 },
 "nbformat": 4,
 "nbformat_minor": 5
}
